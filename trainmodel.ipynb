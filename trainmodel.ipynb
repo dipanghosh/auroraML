{
 "cells": [
  {
   "cell_type": "code",
   "execution_count": 2,
   "metadata": {},
   "outputs": [
    {
     "name": "stderr",
     "output_type": "stream",
     "text": [
      "Using TensorFlow backend.\n"
     ]
    }
   ],
   "source": [
    "# Importing all necessary libraries \n",
    "from keras.preprocessing.image import ImageDataGenerator \n",
    "from keras.models import Sequential \n",
    "from keras.layers import Conv2D, MaxPooling2D \n",
    "from keras.layers import Activation, Dropout, Flatten, Dense \n",
    "from keras import backend as K"
   ]
  },
  {
   "cell_type": "code",
   "execution_count": 3,
   "metadata": {},
   "outputs": [
    {
     "name": "stdout",
     "output_type": "stream",
     "text": [
      "Found 239 images belonging to 2 classes.\n",
      "Found 25 images belonging to 2 classes.\n",
      "Epoch 1/10\n",
      "14/14 [==============================] - 243s 17s/step - loss: 1.3841 - acc: 0.6322 - val_loss: 0.4162 - val_acc: 0.7500\n",
      "Epoch 2/10\n",
      "14/14 [==============================] - 25s 2s/step - loss: 0.3873 - acc: 0.8208 - val_loss: 0.3806 - val_acc: 0.7500\n",
      "Epoch 3/10\n",
      "14/14 [==============================] - 25s 2s/step - loss: 0.3584 - acc: 0.8479 - val_loss: 0.1777 - val_acc: 0.9375\n",
      "Epoch 4/10\n",
      "14/14 [==============================] - 25s 2s/step - loss: 0.4136 - acc: 0.8438 - val_loss: 0.2061 - val_acc: 1.0000\n",
      "Epoch 5/10\n",
      "14/14 [==============================] - 25s 2s/step - loss: 0.2975 - acc: 0.8646 - val_loss: 0.6617 - val_acc: 0.6875\n",
      "Epoch 6/10\n",
      "14/14 [==============================] - 26s 2s/step - loss: 0.2487 - acc: 0.9107 - val_loss: 0.0773 - val_acc: 1.0000\n",
      "Epoch 7/10\n",
      "14/14 [==============================] - 26s 2s/step - loss: 0.1969 - acc: 0.9232 - val_loss: 0.0708 - val_acc: 0.9375\n",
      "Epoch 8/10\n",
      "14/14 [==============================] - 26s 2s/step - loss: 0.0966 - acc: 0.9503 - val_loss: 0.0178 - val_acc: 1.0000\n",
      "Epoch 9/10\n",
      "14/14 [==============================] - 25s 2s/step - loss: 0.1205 - acc: 0.9420 - val_loss: 0.0232 - val_acc: 1.0000\n",
      "Epoch 10/10\n",
      "14/14 [==============================] - 26s 2s/step - loss: 0.4423 - acc: 0.9196 - val_loss: 0.1064 - val_acc: 1.0000\n"
     ]
    },
    {
     "data": {
      "text/plain": [
       "<keras.callbacks.History at 0x23f04522d68>"
      ]
     },
     "execution_count": 3,
     "metadata": {},
     "output_type": "execute_result"
    }
   ],
   "source": [
    "train_data_dir = './train'\n",
    "validation_data_dir = './test'\n",
    "nb_train_samples =239 \n",
    "nb_validation_samples = 25\n",
    "epochs = 10\n",
    "batch_size = 16\n",
    "\n",
    "img_width, img_height = 720, 480\n",
    "\n",
    "if K.image_data_format() == 'channels_first': \n",
    "    input_shape = (3, img_width, img_height) \n",
    "else: \n",
    "    input_shape = (img_width, img_height, 3) \n",
    "    \n",
    "model = Sequential() \n",
    "model.add(Conv2D(32, (2, 2), input_shape=input_shape)) \n",
    "model.add(Activation('relu')) \n",
    "model.add(MaxPooling2D(pool_size=(2, 2))) \n",
    "  \n",
    "model.add(Conv2D(32, (2, 2))) \n",
    "model.add(Activation('relu')) \n",
    "model.add(MaxPooling2D(pool_size=(2, 2))) \n",
    "  \n",
    "model.add(Conv2D(64, (2, 2))) \n",
    "model.add(Activation('relu')) \n",
    "model.add(MaxPooling2D(pool_size=(2, 2))) \n",
    "  \n",
    "model.add(Flatten()) \n",
    "model.add(Dense(64)) \n",
    "model.add(Activation('relu')) \n",
    "model.add(Dropout(0.5)) \n",
    "model.add(Dense(1)) \n",
    "model.add(Activation('sigmoid')) \n",
    "\n",
    "model.compile(loss ='binary_crossentropy', \n",
    "                     optimizer ='rmsprop', \n",
    "                   metrics =['accuracy']) \n",
    "  \n",
    "\n",
    "train_datagen = ImageDataGenerator( \n",
    "    rescale=1. / 255, \n",
    "    shear_range=0.2, \n",
    "    zoom_range=0.2, \n",
    "    horizontal_flip=True) \n",
    "  \n",
    "test_datagen = ImageDataGenerator(rescale=1. / 255) \n",
    "  \n",
    "train_generator = train_datagen.flow_from_directory( \n",
    "    train_data_dir, \n",
    "    target_size=(img_width, img_height), \n",
    "    batch_size=batch_size, \n",
    "    class_mode='binary') \n",
    "  \n",
    "validation_generator = test_datagen.flow_from_directory( \n",
    "    validation_data_dir, \n",
    "    target_size=(img_width, img_height), \n",
    "    batch_size=batch_size, \n",
    "    class_mode='binary') \n",
    "  \n",
    "model.fit_generator( \n",
    "    train_generator, \n",
    "    steps_per_epoch=nb_train_samples // batch_size, \n",
    "    epochs=epochs, \n",
    "    validation_data=validation_generator, \n",
    "    validation_steps=nb_validation_samples // batch_size)"
   ]
  },
  {
   "cell_type": "code",
   "execution_count": 15,
   "metadata": {},
   "outputs": [],
   "source": [
    "import numpy as np\n",
    "from keras.preprocessing import image\n",
    "test_image = np.expand_dims(image.img_to_array(image.load_img(\"test.jpg\", target_size=(720, 480))),axis=0)\n",
    "result = model.predict(test_image)\n",
    "\n"
   ]
  },
  {
   "cell_type": "code",
   "execution_count": 16,
   "metadata": {},
   "outputs": [
    {
     "data": {
      "text/plain": [
       "array([[8.4908567e-07]], dtype=float32)"
      ]
     },
     "execution_count": 16,
     "metadata": {},
     "output_type": "execute_result"
    }
   ],
   "source": [
    "result"
   ]
  },
  {
   "cell_type": "code",
   "execution_count": null,
   "metadata": {},
   "outputs": [],
   "source": []
  }
 ],
 "metadata": {
  "kernelspec": {
   "display_name": "Python [conda env:kerasGPU]",
   "language": "python",
   "name": "conda-env-kerasGPU-py"
  },
  "language_info": {
   "codemirror_mode": {
    "name": "ipython",
    "version": 3
   },
   "file_extension": ".py",
   "mimetype": "text/x-python",
   "name": "python",
   "nbconvert_exporter": "python",
   "pygments_lexer": "ipython3",
   "version": "3.6.6"
  }
 },
 "nbformat": 4,
 "nbformat_minor": 2
}
