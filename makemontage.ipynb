{
 "cells": [
  {
   "cell_type": "code",
   "execution_count": 1,
   "metadata": {},
   "outputs": [],
   "source": [
    "from PIL import Image\n",
    "import os\n",
    "import io\n",
    "import re, requests\n",
    "import urllib.request\n",
    "from PIL import Image, ImageDraw\n",
    "from bs4 import BeautifulSoup\n",
    "from tqdm import tqdm_notebook\n",
    "\n",
    "def make_contact_sheet(PIL_images,ncols=10,nrows=1,photow=72,photoh=48,marl=0,mart=0,marr=0,marb=0,padding=5):\n",
    "    \"\"\"\\\n",
    "    Make a contact sheet from a group of filenames:\n",
    "\n",
    "    fnames       A list of names of the image files\n",
    "    \n",
    "    ncols        Number of columns in the contact sheet\n",
    "    nrows        Number of rows in the contact sheet\n",
    "    photow       The width of the photo thumbs in pixels\n",
    "    photoh       The height of the photo thumbs in pixels\n",
    "\n",
    "    marl         The left margin in pixels\n",
    "    mart         The top margin in pixels\n",
    "    marr         The right margin in pixels\n",
    "    marb         The bottom margin in pixels\n",
    "\n",
    "    padding      The padding between images in pixels\n",
    "\n",
    "    returns a PIL image object.\n",
    "    \"\"\"\n",
    "    #calculate rows\n",
    "    nrows = (len(PIL_images)//ncols)+1\n",
    "\n",
    "    # Calculate the size of the output image, based on the\n",
    "    #  photo thumb sizes, margins, and padding\n",
    "    marw = marl+marr\n",
    "    marh = mart+ marb\n",
    "\n",
    "    padw = (ncols-1)*padding\n",
    "    padh = (nrows-1)*padding\n",
    "    isize = (ncols*photow+marw+padw,nrows*photoh+marh+padh)\n",
    "\n",
    "    # Create the new image. The background doesn't have to be white\n",
    "    white = (255,255,255)\n",
    "    inew = Image.new('RGB',isize,white)\n",
    "\n",
    "    count = 0\n",
    "    # Insert each thumb:\n",
    "    for irow in range(nrows):\n",
    "        for icol in range(ncols):\n",
    "            left = marl + icol*(photow+padding)\n",
    "            right = left + photow\n",
    "            upper = mart + irow*(photoh+padding)\n",
    "            lower = upper + photoh\n",
    "            bbox = (left,upper,right,lower)\n",
    "            try:\n",
    "                # Read in an image and resize appropriately\n",
    "                img = PIL_images[count].resize((photow,photoh))\n",
    "            except:\n",
    "                break\n",
    "            inew.paste(img,bbox)\n",
    "            count += 1\n",
    "            \n",
    "    return inew"
   ]
  },
  {
   "cell_type": "code",
   "execution_count": 2,
   "metadata": {},
   "outputs": [],
   "source": [
    "headers={'User-Agent': 'Mozilla/5.0 (X11; Linux x86_64) AppleWebKit/537.11 (KHTML, like Gecko) Chrome/23.0.1271.64 Safari/537.11',\n",
    "   'Accept': 'text/html,application/xhtml+xml,application/xml;q=0.9,*/*;q=0.8',\n",
    "   'Accept-Charset': 'ISO-8859-1,utf-8;q=0.7,*;q=0.3',\n",
    "   'Accept-Encoding': 'none',\n",
    "   'Accept-Language': 'en-US,en;q=0.8',\n",
    "   'Connection': 'keep-alive'}\n",
    "\n",
    "def getPIL_image(img_url):\n",
    "    try:\n",
    "        request_= urllib.request.Request(img_url,None,headers)\n",
    "        response = urllib.request.urlopen(request_)\n",
    "        i = Image.open(io.BytesIO(response.read()))    \n",
    "    except:        \n",
    "        i = Image.new('RGB',(72,48),(255,255,255))\n",
    "        d = ImageDraw.Draw(i)\n",
    "        d.text((1,10), \"Link Broken\", fill=(0,0,0))\n",
    "    return i\n",
    "    "
   ]
  },
  {
   "cell_type": "code",
   "execution_count": 3,
   "metadata": {
    "scrolled": true
   },
   "outputs": [],
   "source": [
    "def make_date_montage(date):\n",
    "    date = str(date)\n",
    "    site = 'http://nordlys.nipr.ac.jp/acaurora/Syowa/html/wrap.php?html='+date+'.html'\n",
    "    baseurl = 'http://nordlys.nipr.ac.jp/acaurora/Syowa/'\n",
    "\n",
    "    response = requests.get(site)\n",
    "\n",
    "    soup = BeautifulSoup(response.text, 'html.parser')\n",
    "    img_tags = soup.find_all('img', src = re.compile(r'20'))\n",
    "\n",
    "    imgs = [img['src'] for img in img_tags if not 'kog' in img['src']]\n",
    "\n",
    "    PIL_images = []\n",
    "\n",
    "    for img in tqdm_notebook(imgs):\n",
    "            #img = img[:-5]+\".jpg\"\n",
    "            PIL_images.append(getPIL_image (baseurl+img[2:]))\n",
    "    montage = make_contact_sheet(PIL_images)\n",
    "    montage.save(\"datemontages/\"+date+\"-montage.jpg\")"
   ]
  },
  {
   "cell_type": "code",
   "execution_count": null,
   "metadata": {},
   "outputs": [],
   "source": []
  },
  {
   "cell_type": "code",
   "execution_count": 4,
   "metadata": {},
   "outputs": [],
   "source": [
    "import pandas as pd\n",
    "df=pd.read_csv(\"2018_processed.csv\", index_col=False)"
   ]
  },
  {
   "cell_type": "code",
   "execution_count": 7,
   "metadata": {},
   "outputs": [
    {
     "data": {
      "application/vnd.jupyter.widget-view+json": {
       "model_id": "c3ddb26fb1224924859f1ca9e6626a7e",
       "version_major": 2,
       "version_minor": 0
      },
      "text/plain": [
       "HBox(children=(IntProgress(value=0, max=120), HTML(value='')))"
      ]
     },
     "metadata": {},
     "output_type": "display_data"
    },
    {
     "name": "stdout",
     "output_type": "stream",
     "text": [
      "File Exists, Skipped\n",
      "File Exists, Skipped\n",
      "File Exists, Skipped\n",
      "File Exists, Skipped\n",
      "File Exists, Skipped\n",
      "File Exists, Skipped\n",
      "File Exists, Skipped\n",
      "File Exists, Skipped\n",
      "File Exists, Skipped\n",
      "File Exists, Skipped\n",
      "File Exists, Skipped\n",
      "File Exists, Skipped\n",
      "File Exists, Skipped\n",
      "File Exists, Skipped\n",
      "File Exists, Skipped\n",
      "File Exists, Skipped\n",
      "File Exists, Skipped\n",
      "File Exists, Skipped\n",
      "File Exists, Skipped\n",
      "File Exists, Skipped\n",
      "File Exists, Skipped\n",
      "File Exists, Skipped\n",
      "File Exists, Skipped\n",
      "File Exists, Skipped\n",
      "File Exists, Skipped\n",
      "File Exists, Skipped\n",
      "File Exists, Skipped\n",
      "File Exists, Skipped\n",
      "File Exists, Skipped\n",
      "File Exists, Skipped\n",
      "File Exists, Skipped\n",
      "File Exists, Skipped\n",
      "File Exists, Skipped\n",
      "File Exists, Skipped\n",
      "File Exists, Skipped\n",
      "File Exists, Skipped\n",
      "File Exists, Skipped\n",
      "File Exists, Skipped\n",
      "File Exists, Skipped\n",
      "File Exists, Skipped\n",
      "File Exists, Skipped\n",
      "File Exists, Skipped\n",
      "File Exists, Skipped\n",
      "File Exists, Skipped\n",
      "File Exists, Skipped\n",
      "File Exists, Skipped\n",
      "File Exists, Skipped\n",
      "File Exists, Skipped\n",
      "File Exists, Skipped\n",
      "File Exists, Skipped\n",
      "File Exists, Skipped\n",
      "File Exists, Skipped\n",
      "File Exists, Skipped\n",
      "File Exists, Skipped\n",
      "File Exists, Skipped\n",
      "File Exists, Skipped\n",
      "File Exists, Skipped\n",
      "File Exists, Skipped\n",
      "File Exists, Skipped\n",
      "File Exists, Skipped\n",
      "File Exists, Skipped\n",
      "File Exists, Skipped\n",
      "File Exists, Skipped\n",
      "File Exists, Skipped\n",
      "File Exists, Skipped\n",
      "File Exists, Skipped\n",
      "File Exists, Skipped\n",
      "File Exists, Skipped\n",
      "File Exists, Skipped\n",
      "File Exists, Skipped\n",
      "File Exists, Skipped\n",
      "File Exists, Skipped\n",
      "File Exists, Skipped\n",
      "File Exists, Skipped\n",
      "File Exists, Skipped\n",
      "File Exists, Skipped\n",
      "File Exists, Skipped\n",
      "File Exists, Skipped\n",
      "File Exists, Skipped\n",
      "File Exists, Skipped\n",
      "File Exists, Skipped\n",
      "File Exists, Skipped\n",
      "File Exists, Skipped\n",
      "File Exists, Skipped\n"
     ]
    },
    {
     "data": {
      "application/vnd.jupyter.widget-view+json": {
       "model_id": "06603f237300484a858266dd2e35e6cf",
       "version_major": 2,
       "version_minor": 0
      },
      "text/plain": [
       "HBox(children=(IntProgress(value=0, max=40), HTML(value='')))"
      ]
     },
     "metadata": {},
     "output_type": "display_data"
    },
    {
     "data": {
      "application/vnd.jupyter.widget-view+json": {
       "model_id": "2adf6cb56ba74427a7702e5e9ca4c060",
       "version_major": 2,
       "version_minor": 0
      },
      "text/plain": [
       "HBox(children=(IntProgress(value=0, max=89), HTML(value='')))"
      ]
     },
     "metadata": {},
     "output_type": "display_data"
    },
    {
     "data": {
      "application/vnd.jupyter.widget-view+json": {
       "model_id": "aaf2255f8f444c60ac190c35c1d7be03",
       "version_major": 2,
       "version_minor": 0
      },
      "text/plain": [
       "HBox(children=(IntProgress(value=0, max=35), HTML(value='')))"
      ]
     },
     "metadata": {},
     "output_type": "display_data"
    },
    {
     "data": {
      "application/vnd.jupyter.widget-view+json": {
       "model_id": "ccbbdeced78c40c19e970115f878c336",
       "version_major": 2,
       "version_minor": 0
      },
      "text/plain": [
       "HBox(children=(IntProgress(value=0, max=79), HTML(value='')))"
      ]
     },
     "metadata": {},
     "output_type": "display_data"
    },
    {
     "data": {
      "application/vnd.jupyter.widget-view+json": {
       "model_id": "474e4c2b702c4e5b994e1b0e801fc511",
       "version_major": 2,
       "version_minor": 0
      },
      "text/plain": [
       "HBox(children=(IntProgress(value=0, max=39), HTML(value='')))"
      ]
     },
     "metadata": {},
     "output_type": "display_data"
    },
    {
     "data": {
      "application/vnd.jupyter.widget-view+json": {
       "model_id": "242ca8da4d4b4ccf9d7644346b8db84f",
       "version_major": 2,
       "version_minor": 0
      },
      "text/plain": [
       "HBox(children=(IntProgress(value=0, max=82), HTML(value='')))"
      ]
     },
     "metadata": {},
     "output_type": "display_data"
    },
    {
     "data": {
      "application/vnd.jupyter.widget-view+json": {
       "model_id": "8f4d184af660446cb9469ce3a7e28135",
       "version_major": 2,
       "version_minor": 0
      },
      "text/plain": [
       "HBox(children=(IntProgress(value=0, max=26), HTML(value='')))"
      ]
     },
     "metadata": {},
     "output_type": "display_data"
    },
    {
     "data": {
      "application/vnd.jupyter.widget-view+json": {
       "model_id": "0bb8c5f1d9584e50986d52dac1a67dd8",
       "version_major": 2,
       "version_minor": 0
      },
      "text/plain": [
       "HBox(children=(IntProgress(value=0, max=83), HTML(value='')))"
      ]
     },
     "metadata": {},
     "output_type": "display_data"
    },
    {
     "data": {
      "application/vnd.jupyter.widget-view+json": {
       "model_id": "16fb30398fb44d0f9c3446dd6844af06",
       "version_major": 2,
       "version_minor": 0
      },
      "text/plain": [
       "HBox(children=(IntProgress(value=0, max=28), HTML(value='')))"
      ]
     },
     "metadata": {},
     "output_type": "display_data"
    },
    {
     "data": {
      "application/vnd.jupyter.widget-view+json": {
       "model_id": "d4d17f144b5f45be92d9069e02550057",
       "version_major": 2,
       "version_minor": 0
      },
      "text/plain": [
       "HBox(children=(IntProgress(value=0, max=26), HTML(value='')))"
      ]
     },
     "metadata": {},
     "output_type": "display_data"
    },
    {
     "data": {
      "application/vnd.jupyter.widget-view+json": {
       "model_id": "9acd653f37574c6181fd4732cf41f409",
       "version_major": 2,
       "version_minor": 0
      },
      "text/plain": [
       "HBox(children=(IntProgress(value=0, max=30), HTML(value='')))"
      ]
     },
     "metadata": {},
     "output_type": "display_data"
    },
    {
     "data": {
      "application/vnd.jupyter.widget-view+json": {
       "model_id": "0c3754613ab34292ada1dfba0ab2db5e",
       "version_major": 2,
       "version_minor": 0
      },
      "text/plain": [
       "HBox(children=(IntProgress(value=0, max=28), HTML(value='')))"
      ]
     },
     "metadata": {},
     "output_type": "display_data"
    },
    {
     "data": {
      "application/vnd.jupyter.widget-view+json": {
       "model_id": "d9fe1258c45047eeb747f322947d5f4d",
       "version_major": 2,
       "version_minor": 0
      },
      "text/plain": [
       "HBox(children=(IntProgress(value=0, max=59), HTML(value='')))"
      ]
     },
     "metadata": {},
     "output_type": "display_data"
    },
    {
     "data": {
      "application/vnd.jupyter.widget-view+json": {
       "model_id": "51eb50100a394dd9b5f609f7f5026120",
       "version_major": 2,
       "version_minor": 0
      },
      "text/plain": [
       "HBox(children=(IntProgress(value=0, max=35), HTML(value='')))"
      ]
     },
     "metadata": {},
     "output_type": "display_data"
    },
    {
     "data": {
      "application/vnd.jupyter.widget-view+json": {
       "model_id": "a89b56f5123f49fc882c0a7f746d6912",
       "version_major": 2,
       "version_minor": 0
      },
      "text/plain": [
       "HBox(children=(IntProgress(value=0, max=71), HTML(value='')))"
      ]
     },
     "metadata": {},
     "output_type": "display_data"
    },
    {
     "data": {
      "application/vnd.jupyter.widget-view+json": {
       "model_id": "1435f167920140a0bf049b92f22fd410",
       "version_major": 2,
       "version_minor": 0
      },
      "text/plain": [
       "HBox(children=(IntProgress(value=0, max=92), HTML(value='')))"
      ]
     },
     "metadata": {},
     "output_type": "display_data"
    },
    {
     "data": {
      "application/vnd.jupyter.widget-view+json": {
       "model_id": "5ce15953281a4487b9c36859faecd914",
       "version_major": 2,
       "version_minor": 0
      },
      "text/plain": [
       "HBox(children=(IntProgress(value=0, max=69), HTML(value='')))"
      ]
     },
     "metadata": {},
     "output_type": "display_data"
    },
    {
     "data": {
      "application/vnd.jupyter.widget-view+json": {
       "model_id": "b78f0dc283024a2ab06278b99c528757",
       "version_major": 2,
       "version_minor": 0
      },
      "text/plain": [
       "HBox(children=(IntProgress(value=0, max=24), HTML(value='')))"
      ]
     },
     "metadata": {},
     "output_type": "display_data"
    },
    {
     "data": {
      "application/vnd.jupyter.widget-view+json": {
       "model_id": "6ac671423bc840be875d1c02f7297f39",
       "version_major": 2,
       "version_minor": 0
      },
      "text/plain": [
       "HBox(children=(IntProgress(value=0, max=24), HTML(value='')))"
      ]
     },
     "metadata": {},
     "output_type": "display_data"
    },
    {
     "data": {
      "application/vnd.jupyter.widget-view+json": {
       "model_id": "30845c760e6d437dab4e87fc7f85af41",
       "version_major": 2,
       "version_minor": 0
      },
      "text/plain": [
       "HBox(children=(IntProgress(value=0, max=96), HTML(value='')))"
      ]
     },
     "metadata": {},
     "output_type": "display_data"
    },
    {
     "data": {
      "application/vnd.jupyter.widget-view+json": {
       "model_id": "27cc1e032b3d478b9ded2c8ac2c05d6d",
       "version_major": 2,
       "version_minor": 0
      },
      "text/plain": [
       "HBox(children=(IntProgress(value=0, max=51), HTML(value='')))"
      ]
     },
     "metadata": {},
     "output_type": "display_data"
    },
    {
     "data": {
      "application/vnd.jupyter.widget-view+json": {
       "model_id": "f37e1f0752364f3d9cb96448503c3425",
       "version_major": 2,
       "version_minor": 0
      },
      "text/plain": [
       "HBox(children=(IntProgress(value=0, max=92), HTML(value='')))"
      ]
     },
     "metadata": {},
     "output_type": "display_data"
    },
    {
     "data": {
      "application/vnd.jupyter.widget-view+json": {
       "model_id": "48e00994ca714144b8daf257d3aebf24",
       "version_major": 2,
       "version_minor": 0
      },
      "text/plain": [
       "HBox(children=(IntProgress(value=0, max=88), HTML(value='')))"
      ]
     },
     "metadata": {},
     "output_type": "display_data"
    },
    {
     "data": {
      "application/vnd.jupyter.widget-view+json": {
       "model_id": "1451e9c4875a437a81153a75fa5c2f30",
       "version_major": 2,
       "version_minor": 0
      },
      "text/plain": [
       "HBox(children=(IntProgress(value=0, max=81), HTML(value='')))"
      ]
     },
     "metadata": {},
     "output_type": "display_data"
    },
    {
     "data": {
      "application/vnd.jupyter.widget-view+json": {
       "model_id": "79501e7e58404d57ba0dd4a7ec0686b4",
       "version_major": 2,
       "version_minor": 0
      },
      "text/plain": [
       "HBox(children=(IntProgress(value=0, max=85), HTML(value='')))"
      ]
     },
     "metadata": {},
     "output_type": "display_data"
    },
    {
     "data": {
      "application/vnd.jupyter.widget-view+json": {
       "model_id": "22cefb1681654eef8b8d8723d45864f2",
       "version_major": 2,
       "version_minor": 0
      },
      "text/plain": [
       "HBox(children=(IntProgress(value=0, max=84), HTML(value='')))"
      ]
     },
     "metadata": {},
     "output_type": "display_data"
    },
    {
     "data": {
      "application/vnd.jupyter.widget-view+json": {
       "model_id": "4fa11d3f7b174b1d96b6e4f063c6cfd8",
       "version_major": 2,
       "version_minor": 0
      },
      "text/plain": [
       "HBox(children=(IntProgress(value=0, max=8), HTML(value='')))"
      ]
     },
     "metadata": {},
     "output_type": "display_data"
    },
    {
     "data": {
      "application/vnd.jupyter.widget-view+json": {
       "model_id": "f08f7434584c4d90b9c373b120a3fd43",
       "version_major": 2,
       "version_minor": 0
      },
      "text/plain": [
       "HBox(children=(IntProgress(value=0, max=89), HTML(value='')))"
      ]
     },
     "metadata": {},
     "output_type": "display_data"
    },
    {
     "data": {
      "application/vnd.jupyter.widget-view+json": {
       "model_id": "97295867c0034deb8d1d7f1b4df63f80",
       "version_major": 2,
       "version_minor": 0
      },
      "text/plain": [
       "HBox(children=(IntProgress(value=0, max=11), HTML(value='')))"
      ]
     },
     "metadata": {},
     "output_type": "display_data"
    },
    {
     "data": {
      "application/vnd.jupyter.widget-view+json": {
       "model_id": "4e9e30807a18461a9bc3987b25a88c4d",
       "version_major": 2,
       "version_minor": 0
      },
      "text/plain": [
       "HBox(children=(IntProgress(value=0, max=53), HTML(value='')))"
      ]
     },
     "metadata": {},
     "output_type": "display_data"
    },
    {
     "data": {
      "application/vnd.jupyter.widget-view+json": {
       "model_id": "b349ba09098843dd8d4b8fa560d6ffd3",
       "version_major": 2,
       "version_minor": 0
      },
      "text/plain": [
       "HBox(children=(IntProgress(value=0, max=20), HTML(value='')))"
      ]
     },
     "metadata": {},
     "output_type": "display_data"
    },
    {
     "data": {
      "application/vnd.jupyter.widget-view+json": {
       "model_id": "911527c21f904a84b9126c88ea50f6f5",
       "version_major": 2,
       "version_minor": 0
      },
      "text/plain": [
       "HBox(children=(IntProgress(value=0, max=44), HTML(value='')))"
      ]
     },
     "metadata": {},
     "output_type": "display_data"
    },
    {
     "data": {
      "application/vnd.jupyter.widget-view+json": {
       "model_id": "93c133419fd24f84886e734e88d2cc4b",
       "version_major": 2,
       "version_minor": 0
      },
      "text/plain": [
       "HBox(children=(IntProgress(value=0, max=39), HTML(value='')))"
      ]
     },
     "metadata": {},
     "output_type": "display_data"
    },
    {
     "data": {
      "application/vnd.jupyter.widget-view+json": {
       "model_id": "214f7586cc0a45d994318fc26f78d9f8",
       "version_major": 2,
       "version_minor": 0
      },
      "text/plain": [
       "HBox(children=(IntProgress(value=0, max=90), HTML(value='')))"
      ]
     },
     "metadata": {},
     "output_type": "display_data"
    },
    {
     "data": {
      "application/vnd.jupyter.widget-view+json": {
       "model_id": "f2a9816218f3433badca9d8952b8172b",
       "version_major": 2,
       "version_minor": 0
      },
      "text/plain": [
       "HBox(children=(IntProgress(value=0, max=58), HTML(value='')))"
      ]
     },
     "metadata": {},
     "output_type": "display_data"
    },
    {
     "data": {
      "application/vnd.jupyter.widget-view+json": {
       "model_id": "0ff28980f5a24da899749fc2da993524",
       "version_major": 2,
       "version_minor": 0
      },
      "text/plain": [
       "HBox(children=(IntProgress(value=0, max=59), HTML(value='')))"
      ]
     },
     "metadata": {},
     "output_type": "display_data"
    }
   ],
   "source": [
    "for date in tqdm_notebook(df.iloc[:, 1][0:120]):\n",
    "    if not os.path.isfile(\"datemontages/\"+str(date)+\"-montage.jpg\"):\n",
    "        make_date_montage(date)\n",
    "    else:\n",
    "        print (\"File Exists, Skipped\")"
   ]
  },
  {
   "cell_type": "code",
   "execution_count": null,
   "metadata": {},
   "outputs": [],
   "source": []
  }
 ],
 "metadata": {
  "kernelspec": {
   "display_name": "Python [conda env:kerasGPU]",
   "language": "python",
   "name": "conda-env-kerasGPU-py"
  },
  "language_info": {
   "codemirror_mode": {
    "name": "ipython",
    "version": 3
   },
   "file_extension": ".py",
   "mimetype": "text/x-python",
   "name": "python",
   "nbconvert_exporter": "python",
   "pygments_lexer": "ipython3",
   "version": "3.6.6"
  }
 },
 "nbformat": 4,
 "nbformat_minor": 2
}
